{
  "nbformat": 4,
  "nbformat_minor": 0,
  "metadata": {
    "colab": {
      "provenance": []
    },
    "kernelspec": {
      "name": "python3",
      "display_name": "Python 3"
    },
    "language_info": {
      "name": "python"
    }
  },
  "cells": [
    {
      "cell_type": "code",
      "execution_count": 31,
      "metadata": {
        "colab": {
          "base_uri": "https://localhost:8080/"
        },
        "id": "Ot4l_kVVnpg6",
        "outputId": "3d7039c4-3acf-44bc-d722-e431b09668f0"
      },
      "outputs": [
        {
          "output_type": "stream",
          "name": "stdout",
          "text": [
            "Requirement already satisfied: mpld3 in /usr/local/lib/python3.10/dist-packages (0.5.9)\n",
            "Requirement already satisfied: jinja2 in /usr/local/lib/python3.10/dist-packages (from mpld3) (3.1.2)\n",
            "Requirement already satisfied: matplotlib in /usr/local/lib/python3.10/dist-packages (from mpld3) (3.7.1)\n",
            "Requirement already satisfied: MarkupSafe>=2.0 in /usr/local/lib/python3.10/dist-packages (from jinja2->mpld3) (2.1.3)\n",
            "Requirement already satisfied: contourpy>=1.0.1 in /usr/local/lib/python3.10/dist-packages (from matplotlib->mpld3) (1.2.0)\n",
            "Requirement already satisfied: cycler>=0.10 in /usr/local/lib/python3.10/dist-packages (from matplotlib->mpld3) (0.12.1)\n",
            "Requirement already satisfied: fonttools>=4.22.0 in /usr/local/lib/python3.10/dist-packages (from matplotlib->mpld3) (4.44.3)\n",
            "Requirement already satisfied: kiwisolver>=1.0.1 in /usr/local/lib/python3.10/dist-packages (from matplotlib->mpld3) (1.4.5)\n",
            "Requirement already satisfied: numpy>=1.20 in /usr/local/lib/python3.10/dist-packages (from matplotlib->mpld3) (1.23.5)\n",
            "Requirement already satisfied: packaging>=20.0 in /usr/local/lib/python3.10/dist-packages (from matplotlib->mpld3) (23.2)\n",
            "Requirement already satisfied: pillow>=6.2.0 in /usr/local/lib/python3.10/dist-packages (from matplotlib->mpld3) (9.4.0)\n",
            "Requirement already satisfied: pyparsing>=2.3.1 in /usr/local/lib/python3.10/dist-packages (from matplotlib->mpld3) (3.1.1)\n",
            "Requirement already satisfied: python-dateutil>=2.7 in /usr/local/lib/python3.10/dist-packages (from matplotlib->mpld3) (2.8.2)\n",
            "Requirement already satisfied: six>=1.5 in /usr/local/lib/python3.10/dist-packages (from python-dateutil>=2.7->matplotlib->mpld3) (1.16.0)\n",
            "Drive already mounted at /content/gdrive; to attempt to forcibly remount, call drive.mount(\"/content/gdrive\", force_remount=True).\n"
          ]
        },
        {
          "output_type": "stream",
          "name": "stderr",
          "text": [
            "/usr/local/lib/python3.10/dist-packages/sklearn/cluster/_kmeans.py:870: FutureWarning: The default value of `n_init` will change from 10 to 'auto' in 1.4. Set the value of `n_init` explicitly to suppress the warning\n",
            "  warnings.warn(\n"
          ]
        },
        {
          "output_type": "stream",
          "name": "stdout",
          "text": [
            "CPU times: user 1.84 s, sys: 3.83 ms, total: 1.85 s\n",
            "Wall time: 2.56 s\n",
            "2    332\n",
            "7    290\n",
            "6    241\n",
            "4    235\n",
            "9    189\n",
            "5    170\n",
            "3    154\n",
            "8    133\n",
            "0    133\n",
            "1    123\n",
            "Name: cluster, dtype: int64\n",
            "Number of movies in the same cluster as Jumanji: 123\n"
          ]
        },
        {
          "output_type": "stream",
          "name": "stderr",
          "text": [
            "/usr/local/lib/python3.10/dist-packages/sklearn/cluster/_agglomerative.py:983: FutureWarning: Attribute `affinity` was deprecated in version 1.2 and will be removed in 1.4. Use `metric` instead\n",
            "  warnings.warn(\n"
          ]
        },
        {
          "output_type": "stream",
          "name": "stdout",
          "text": [
            "Number of movies in the same cluster as Jumanji (Hierarchical): 1582\n",
            "Top 3 Recommended Movies:\n",
            "1                  Jumanji\n",
            "1506    The Innocent Sleep\n",
            "8             Sudden Death\n",
            "Name: title, dtype: object\n"
          ]
        }
      ],
      "source": [
        "!pip install mpld3\n",
        "import numpy as np\n",
        "import pandas as pd\n",
        "import nltk\n",
        "import re\n",
        "import os\n",
        "import codecs\n",
        "from sklearn import feature_extraction\n",
        "from sklearn.feature_extraction.text import TfidfVectorizer\n",
        "import mpld3\n",
        "from google.colab import drive\n",
        "drive.mount('/content/gdrive')\n",
        "file_name = \"/content/gdrive/MyDrive/movies_metadata.csv\"\n",
        "data = pd.read_csv(file_name, engine=\"python\")\n",
        "# use only 2000\n",
        "data = data.head(2000)\n",
        "# Check if there is null in building TF-IDF\n",
        "data['overview'].isnull().sum()\n",
        "# Remove Null from overview\n",
        "data['overview'] = data['overview'].fillna('')  # fillna(\"\"): delete null\n",
        "data['overview'].isnull().sum() #  Null check again\n",
        "titles = data['original_title']\n",
        "synopses =data['overview']\n",
        "# TF-IDF\n",
        "tfidf = TfidfVectorizer(stop_words='english')\n",
        "tfidf_matrix = tfidf.fit_transform(data['overview'])\n",
        "# Movie index\n",
        "indices = pd.Series(data.index, index=data['title']).drop_duplicates()\n",
        "# (1)\n",
        "# K-means clustering\n",
        "from sklearn.cluster import KMeans\n",
        "num_clusters = 10  # 10 groups\n",
        "km = KMeans(n_clusters=num_clusters) # default: Euclidean\n",
        "%time km.fit(tfidf_matrix)   # %time: computing time\n",
        "clusters = km.labels_.tolist()\n",
        "films = { 'title': titles, 'synopsis': synopses, 'cluster': clusters }\n",
        "frame = pd.DataFrame(films)\n",
        "print(frame['cluster'].value_counts())\n",
        "# Find movies in the same cluster as \"Jumanji\"\n",
        "movies_in_same_cluster = frame[frame['cluster'] == jumanji_cluster]\n",
        "\n",
        "# Print the number of movies in the same cluster\n",
        "num_movies_in_same_cluster = len(movies_in_same_cluster)\n",
        "print(f'Number of movies in the same cluster as Jumanji: {num_movies_in_same_cluster}')\n",
        "\n",
        "#(2)\n",
        "# Hierarchical document clustering\n",
        "# Sklearn\n",
        "from sklearn.cluster import AgglomerativeClustering\n",
        "cluster = AgglomerativeClustering(n_clusters=10, affinity='euclidean', linkage='ward')\n",
        "result1 = cluster.fit_predict(tfidf_matrix.toarray())\n",
        "# Find the cluster of the movie \"Jumanji\"\n",
        "jumanji_cluster_hierarchical = result1[jumanji_index]\n",
        "\n",
        "# Find movies in the same cluster as \"Jumanji\" for hierarchical clustering\n",
        "movies_in_same_cluster_hierarchical = np.where(result1 == jumanji_cluster_hierarchical)[0]\n",
        "\n",
        "# Print the number of movies in the same cluster for hierarchical clustering\n",
        "num_movies_in_same_cluster_hierarchical = len(movies_in_same_cluster_hierarchical)\n",
        "print(f'Number of movies in the same cluster as Jumanji (Hierarchical): {num_movies_in_same_cluster_hierarchical}')\n",
        "\n",
        "# (3)\n",
        "from sklearn.metrics.pairwise import cosine_similarity\n",
        "cosine_sim = cosine_similarity(tfidf_matrix, tfidf_matrix)\n",
        "def get_recommendations(title, cosine_sim=cosine_sim):\n",
        "    idx = indices[title]\n",
        "    sim_scores = list(enumerate(cosine_sim[idx]))\n",
        "    sim_scores = sorted(sim_scores, key=lambda x: x[1], reverse=True)\n",
        "    sim_scores = sim_scores[0:10]\n",
        "    movie_indices = [i[0] for i in sim_scores]\n",
        "    return data['title'].iloc[movie_indices]\n",
        "get_recommendations('Jumanji')\n",
        "# Recommend movies similar to 'Jumanji' and get the top 3\n",
        "recommendations = get_recommendations('Jumanji')[:3]\n",
        "\n",
        "# Print the top 3 recommended movies\n",
        "print(\"Top 3 Recommended Movies:\")\n",
        "print(recommendations)"
      ]
    },
    {
      "cell_type": "code",
      "source": [
        "import pandas as pd\n",
        "import urllib.request\n",
        "import nltk\n",
        "nltk.download('punkt')\n",
        "from nltk.corpus import stopwords\n",
        "from nltk.stem import WordNetLemmatizer\n",
        "from sklearn.feature_extraction.text import TfidfVectorizer\n",
        "from sklearn.decomposition import LatentDirichletAllocation\n",
        "import pandas as pd\n",
        "from sklearn.feature_extraction.text import TfidfVectorizer\n",
        "from sklearn.metrics.pairwise import linear_kernel\n",
        "from google.colab import drive\n",
        "drive.mount('/content/gdrive')\n",
        "\n",
        "file_name = \"/content/gdrive/MyDrive/movies_metadata.csv\"\n",
        "data = pd.read_csv(file_name, engine=\"python\")\n",
        "data['overview'][0]\n",
        "data['overview'].isnull().sum()\n",
        "data['overview'] = data['overview'].fillna('')\n",
        "data['overview'].isnull().sum()\n",
        "titles = data['original_title']\n",
        "synopses =data['overview']\n",
        "# TF-IDF\n",
        "vectorizer = TfidfVectorizer(stop_words='english', max_features= 1000)\n",
        "X = vectorizer.fit_transform(frame['synopsis'])\n",
        "# (1) LDA model\n",
        "lda_model = LatentDirichletAllocation(n_components=10, learning_method='online',random_state=777,max_iter=5)\n",
        "lda_top = lda_model.fit_transform(X)\n",
        "print(lda_top[0])\n",
        "# (2) vocab\n",
        "terms = vectorizer.get_feature_names_out()\n",
        "\n",
        "def get_topics(components, feature_names, n=5):\n",
        "    for idx, topic in enumerate(components):\n",
        "        print(\"Topic %d:\" % (idx+1), [(feature_names[i], topic[i].round(2)) for i in topic.argsort()[:-n - 1:-1]])\n",
        "\n",
        "get_topics(lda_model.components_,terms)\n",
        "# (3) perflexity\n",
        "import matplotlib.pyplot as plt\n",
        "%matplotlib inline\n",
        "\n",
        "def show_perplexity(vectorizer, start=1, end=30, max_iter=5, topic_word_prior= 0.1,\n",
        "                    doc_topic_prior=1.0):\n",
        "    iter_num = []\n",
        "    per_value = []\n",
        "\n",
        "    for i in range(start, end + 1):\n",
        "        lda = LatentDirichletAllocation(n_components = i, max_iter=max_iter,\n",
        "                                        topic_word_prior= topic_word_prior,\n",
        "                                        doc_topic_prior=doc_topic_prior,\n",
        "                                        learning_method='batch', n_jobs= -1,\n",
        "                                        random_state=7)\n",
        "        lda.fit(vectorizer)\n",
        "        iter_num.append(i)\n",
        "        pv = lda.perplexity(vectorizer)\n",
        "        per_value.append(pv)\n",
        "        print(f'n_components: {i}, perplexity: {pv:0.3f}')\n",
        "\n",
        "    plt.plot(iter_num, per_value, 'g-')\n",
        "    plt.show()\n",
        "    return start + per_value.index(min(per_value))\n",
        "best_num_topics = show_perplexity(X, start=2, end=30, max_iter=5)"
      ],
      "metadata": {
        "colab": {
          "base_uri": "https://localhost:8080/",
          "height": 1000
        },
        "id": "SGdux1Na3U5e",
        "outputId": "eae42bf0-e0f2-4f9d-e805-6cdfced6c638"
      },
      "execution_count": 39,
      "outputs": [
        {
          "output_type": "stream",
          "name": "stderr",
          "text": [
            "[nltk_data] Downloading package punkt to /root/nltk_data...\n",
            "[nltk_data]   Package punkt is already up-to-date!\n"
          ]
        },
        {
          "output_type": "stream",
          "name": "stdout",
          "text": [
            "Drive already mounted at /content/gdrive; to attempt to forcibly remount, call drive.mount(\"/content/gdrive\", force_remount=True).\n",
            "[0.02178283 0.02177808 0.80398575 0.02178162 0.02178239 0.02177967\n",
            " 0.02177742 0.02177742 0.02177742 0.02177742]\n",
            "Topic 1: [('killer', 9.31), ('serial', 8.08), ('murder', 5.52), ('murders', 4.73), ('police', 4.61)]\n",
            "Topic 2: [('professor', 8.84), ('date', 4.97), ('friends', 4.32), ('recently', 4.22), ('given', 4.17)]\n",
            "Topic 3: [('life', 43.14), ('young', 42.93), ('new', 39.53), ('family', 38.06), ('love', 35.09)]\n",
            "Topic 4: [('disney', 5.5), ('freddy', 4.27), ('hollywood', 3.76), ('fred', 3.71), ('manhattan', 3.68)]\n",
            "Topic 5: [('max', 8.25), ('agent', 6.66), ('people', 6.25), ('stop', 6.06), ('computer', 5.97)]\n",
            "Topic 6: [('coach', 4.99), ('basketball', 3.66), ('fashion', 3.53), ('game', 3.09), ('team', 3.02)]\n",
            "Topic 7: [('smith', 3.35), ('vacation', 2.86), ('violent', 1.11), ('pair', 0.41), ('killers', 0.4)]\n",
            "Topic 8: [('planet', 6.27), ('alex', 5.73), ('alien', 5.19), ('space', 4.9), ('earth', 4.75)]\n",
            "Topic 9: [('experience', 3.79), ('anne', 2.06), ('park', 1.62), ('la', 1.02), ('hope', 0.75)]\n",
            "Topic 10: [('king', 7.24), ('texas', 6.83), ('eddie', 5.35), ('charles', 3.74), ('lucy', 3.0)]\n",
            "n_components: 2, perplexity: 1691.621\n",
            "n_components: 3, perplexity: 2211.321\n",
            "n_components: 4, perplexity: 2730.282\n",
            "n_components: 5, perplexity: 3237.374\n",
            "n_components: 6, perplexity: 3700.771\n",
            "n_components: 7, perplexity: 4119.497\n",
            "n_components: 8, perplexity: 4489.407\n",
            "n_components: 9, perplexity: 4857.214\n",
            "n_components: 10, perplexity: 5185.963\n",
            "n_components: 11, perplexity: 5512.273\n",
            "n_components: 12, perplexity: 5819.100\n",
            "n_components: 13, perplexity: 6097.148\n",
            "n_components: 14, perplexity: 6338.403\n",
            "n_components: 15, perplexity: 6587.949\n",
            "n_components: 16, perplexity: 6830.655\n",
            "n_components: 17, perplexity: 7053.158\n",
            "n_components: 18, perplexity: 7274.060\n",
            "n_components: 19, perplexity: 7514.620\n",
            "n_components: 20, perplexity: 7726.053\n",
            "n_components: 21, perplexity: 7915.027\n",
            "n_components: 22, perplexity: 8102.909\n",
            "n_components: 23, perplexity: 8290.567\n",
            "n_components: 24, perplexity: 8483.056\n",
            "n_components: 25, perplexity: 8652.742\n",
            "n_components: 26, perplexity: 8841.922\n",
            "n_components: 27, perplexity: 9049.091\n",
            "n_components: 28, perplexity: 9219.010\n",
            "n_components: 29, perplexity: 9355.210\n",
            "n_components: 30, perplexity: 9523.710\n"
          ]
        },
        {
          "output_type": "display_data",
          "data": {
            "text/plain": [
              "<Figure size 640x480 with 1 Axes>"
            ],
            "image/png": "[encoded data removed]"
          },
          "metadata": {}
        }
      ]
    },
    {
      "cell_type": "code",
      "source": [],
      "metadata": {
        "id": "CfupXtuQ4Cl2"
      },
      "execution_count": null,
      "outputs": []
    }
  ]
}