{
  "nbformat": 4,
  "nbformat_minor": 0,
  "metadata": {
    "colab": {
      "provenance": []
    },
    "kernelspec": {
      "name": "python3",
      "display_name": "Python 3"
    },
    "language_info": {
      "name": "python"
    }
  },
  "cells": [
    {
      "cell_type": "code",
      "execution_count": null,
      "metadata": {
        "id": "sbzDIJNK0pH7"
      },
      "outputs": [],
      "source": [
        "stationary_buy_list = [\"pencil case\", 'marker pen', 'pencil sharpener']"
      ]
    },
    {
      "cell_type": "code",
      "source": [
        "#1-1\n",
        "stationary_buy_list.append('eraser')\n",
        "print(stationary_buy_list)"
      ],
      "metadata": {
        "colab": {
          "base_uri": "https://localhost:8080/"
        },
        "id": "xx6JXjBR0zDU",
        "outputId": "e6e25ca9-43e1-4f24-ea96-47ae337f99fd"
      },
      "execution_count": null,
      "outputs": [
        {
          "output_type": "stream",
          "name": "stdout",
          "text": [
            "['pencil case', 'marker pen', 'pencil sharpener', 'eraser']\n"
          ]
        }
      ]
    },
    {
      "cell_type": "code",
      "source": [
        "#1-2\n",
        "stationary_buy_list.remove('pencil sharpener')\n",
        "print(stationary_buy_list)"
      ],
      "metadata": {
        "colab": {
          "base_uri": "https://localhost:8080/"
        },
        "id": "x2fF5Uy404bl",
        "outputId": "2fee11de-6f58-4343-a52f-57620f503502"
      },
      "execution_count": null,
      "outputs": [
        {
          "output_type": "stream",
          "name": "stdout",
          "text": [
            "['pencil case', 'marker pen', 'eraser']\n"
          ]
        }
      ]
    },
    {
      "cell_type": "code",
      "source": [
        "#1-3\n",
        "stationary_buy_list.insert(2,'ink pen')\n",
        "print(stationary_buy_list)"
      ],
      "metadata": {
        "colab": {
          "base_uri": "https://localhost:8080/"
        },
        "id": "teW2anCi1JaV",
        "outputId": "8f08b75e-3145-49c9-8f4f-13c8e17d7451"
      },
      "execution_count": null,
      "outputs": [
        {
          "output_type": "stream",
          "name": "stdout",
          "text": [
            "['pencil case', 'marker pen', 'ink pen', 'eraser']\n"
          ]
        }
      ]
    },
    {
      "cell_type": "code",
      "source": [
        "#1-4\n",
        "print(stationary_buy_list.count('ink pen'))"
      ],
      "metadata": {
        "colab": {
          "base_uri": "https://localhost:8080/"
        },
        "id": "wcYvb1Or1P0n",
        "outputId": "99a343ba-4025-4b2b-bba1-501ce17c263a"
      },
      "execution_count": null,
      "outputs": [
        {
          "output_type": "stream",
          "name": "stdout",
          "text": [
            "1\n"
          ]
        }
      ]
    },
    {
      "cell_type": "code",
      "source": [
        "#2-1\n",
        "movies = {'For Your Eyes Only': 449.4, 'Skyfall' : 943.5, 'Die Another Day': 465.4, 'A View to a Kill': 275.2}\n",
        "movies['Specter'] = 725.5\n",
        "print(movies)"
      ],
      "metadata": {
        "id": "0fIzCb-Y1kzC",
        "colab": {
          "base_uri": "https://localhost:8080/"
        },
        "outputId": "d3308964-3e19-42c0-9f40-5cb03692e9b6"
      },
      "execution_count": 11,
      "outputs": [
        {
          "output_type": "stream",
          "name": "stdout",
          "text": [
            "{'For Your Eyes Only': 449.4, 'Skyfall': 943.5, 'Die Another Day': 465.4, 'A View to a Kill': 275.2, 'Specter': 725.5}\n"
          ]
        }
      ]
    },
    {
      "cell_type": "code",
      "source": [
        "#2-2\n",
        "movies['Golden Eye'] = movies.pop('For Your Eyes Only')\n",
        "movies['Golden Eye'] = 518.5\n",
        "print(movies)"
      ],
      "metadata": {
        "colab": {
          "base_uri": "https://localhost:8080/"
        },
        "id": "D74G_G3-qIcz",
        "outputId": "92d31b1f-0992-479e-dc99-098e1366e609"
      },
      "execution_count": 12,
      "outputs": [
        {
          "output_type": "stream",
          "name": "stdout",
          "text": [
            "{'Skyfall': 943.5, 'Die Another Day': 465.4, 'A View to a Kill': 275.2, 'Specter': 725.5, 'Golden Eye': 518.5}\n"
          ]
        }
      ]
    },
    {
      "cell_type": "code",
      "source": [
        "#2-3\n",
        "del movies[\"A View to a Kill\"]\n",
        "print(movies)"
      ],
      "metadata": {
        "id": "AGmEKVWWsljn",
        "colab": {
          "base_uri": "https://localhost:8080/"
        },
        "outputId": "26728b8d-eb97-47be-c1e4-15c645acb53a"
      },
      "execution_count": 13,
      "outputs": [
        {
          "output_type": "stream",
          "name": "stdout",
          "text": [
            "{'Skyfall': 943.5, 'Die Another Day': 465.4, 'Specter': 725.5, 'Golden Eye': 518.5}\n"
          ]
        }
      ]
    },
    {
      "cell_type": "code",
      "source": [
        "#2-4\n",
        "print(movies['Skyfall'])"
      ],
      "metadata": {
        "colab": {
          "base_uri": "https://localhost:8080/"
        },
        "id": "hg-C5bW2Vlbe",
        "outputId": "95a2486b-6a78-4e86-9db5-5c4affb540d5"
      },
      "execution_count": 14,
      "outputs": [
        {
          "output_type": "stream",
          "name": "stdout",
          "text": [
            "943.5\n"
          ]
        }
      ]
    },
    {
      "cell_type": "code",
      "source": [
        "#2-5\n",
        "total = 0\n",
        "for x in movies.values():\n",
        "  total += x\n",
        "print(total)"
      ],
      "metadata": {
        "colab": {
          "base_uri": "https://localhost:8080/"
        },
        "id": "PK0jVLICWZIR",
        "outputId": "7df15ab1-b977-4e2b-9a53-09c0c1f0cc5e"
      },
      "execution_count": 15,
      "outputs": [
        {
          "output_type": "stream",
          "name": "stdout",
          "text": [
            "2652.9\n"
          ]
        }
      ]
    },
    {
      "cell_type": "code",
      "source": [
        "#3-1\n",
        "A = {'R', 'Python', 'Excel', 'Matlab', 'SAS', 'C#'}\n",
        "B = {'Python', 'HTML', 'CSS', 'C++', 'Excel'}\n",
        "print(A & B)"
      ],
      "metadata": {
        "colab": {
          "base_uri": "https://localhost:8080/"
        },
        "id": "MHSqRDyTW4Wq",
        "outputId": "927a103b-8cbf-461c-9303-c7159b201691"
      },
      "execution_count": 16,
      "outputs": [
        {
          "output_type": "stream",
          "name": "stdout",
          "text": [
            "{'Python', 'Excel'}\n"
          ]
        }
      ]
    },
    {
      "cell_type": "code",
      "source": [
        "#3-2\n",
        "print(A | B)"
      ],
      "metadata": {
        "colab": {
          "base_uri": "https://localhost:8080/"
        },
        "id": "ytuxFVS3XNee",
        "outputId": "5a73a5be-5664-4646-d0b0-2f2e76300c7e"
      },
      "execution_count": 17,
      "outputs": [
        {
          "output_type": "stream",
          "name": "stdout",
          "text": [
            "{'HTML', 'Python', 'C#', 'C++', 'Matlab', 'R', 'CSS', 'SAS', 'Excel'}\n"
          ]
        }
      ]
    },
    {
      "cell_type": "code",
      "source": [
        "#3-3\n",
        "print((A - B) | (B - A))"
      ],
      "metadata": {
        "colab": {
          "base_uri": "https://localhost:8080/"
        },
        "id": "a3TksPl_XRDI",
        "outputId": "3be68da8-e999-4e01-aa93-a55f0cc6cea0"
      },
      "execution_count": 18,
      "outputs": [
        {
          "output_type": "stream",
          "name": "stdout",
          "text": [
            "{'C++', 'Matlab', 'R', 'HTML', 'CSS', 'SAS', 'C#'}\n"
          ]
        }
      ]
    },
    {
      "cell_type": "code",
      "source": [
        "#4-1\n",
        "import pandas as pd\n",
        "d = {'English test scores' : [95, 97, 90, 97, 93, 85, 79, 89], 'English literature major': [0, 0, 1, 1, 1, 0, 0, 1]}\n",
        "df = pd.DataFrame (data = d)\n",
        "print(df)"
      ],
      "metadata": {
        "colab": {
          "base_uri": "https://localhost:8080/"
        },
        "id": "2UDFlGroXbde",
        "outputId": "cc3a4c88-bc1c-42da-ce0c-e32f7a4d7b39"
      },
      "execution_count": 19,
      "outputs": [
        {
          "output_type": "stream",
          "name": "stdout",
          "text": [
            "   English test scores  English literature major\n",
            "0                   95                         0\n",
            "1                   97                         0\n",
            "2                   90                         1\n",
            "3                   97                         1\n",
            "4                   93                         1\n",
            "5                   85                         0\n",
            "6                   79                         0\n",
            "7                   89                         1\n"
          ]
        }
      ]
    },
    {
      "cell_type": "code",
      "source": [
        "#4-2\n",
        "grouped = df['English test scores'].groupby(df['English literature major'])\n",
        "print(grouped.mean())\n"
      ],
      "metadata": {
        "colab": {
          "base_uri": "https://localhost:8080/"
        },
        "id": "yti423PJdYSe",
        "outputId": "b429ccd0-ac05-4999-f9d8-085c5318fba4"
      },
      "execution_count": 20,
      "outputs": [
        {
          "output_type": "stream",
          "name": "stdout",
          "text": [
            "English literature major\n",
            "0    89.00\n",
            "1    92.25\n",
            "Name: English test scores, dtype: float64\n"
          ]
        }
      ]
    },
    {
      "cell_type": "code",
      "source": [
        "#5-1\n",
        "import numpy as np\n",
        "score = np.array([[96, 78, 88, 93, 90, 85, 78],[99, 74, 97, 79, 89, 90]])\n",
        "print(score)"
      ],
      "metadata": {
        "colab": {
          "base_uri": "https://localhost:8080/"
        },
        "id": "NwXOitkAeiUO",
        "outputId": "edf0bafe-e0be-4433-8850-2874e3ee7983"
      },
      "execution_count": 27,
      "outputs": [
        {
          "output_type": "stream",
          "name": "stdout",
          "text": [
            "[list([96, 78, 88, 93, 90, 85, 78]) list([99, 74, 97, 79, 89, 90])]\n"
          ]
        },
        {
          "output_type": "stream",
          "name": "stderr",
          "text": [
            "<ipython-input-27-174a529b01af>:3: VisibleDeprecationWarning: Creating an ndarray from ragged nested sequences (which is a list-or-tuple of lists-or-tuples-or ndarrays with different lengths or shapes) is deprecated. If you meant to do this, you must specify 'dtype=object' when creating the ndarray.\n",
            "  score = np.array([[96, 78, 88, 93, 90, 85, 78],[99, 74, 97, 79, 89, 90]])\n"
          ]
        }
      ]
    },
    {
      "cell_type": "code",
      "source": [
        "#5-2\n",
        "mean_list = [np.mean(x) for x in score]\n",
        "print(mean_list)"
      ],
      "metadata": {
        "colab": {
          "base_uri": "https://localhost:8080/"
        },
        "id": "pTx295IXfp1v",
        "outputId": "39da82d8-ee83-4a16-e2ce-6327fa45b689"
      },
      "execution_count": 32,
      "outputs": [
        {
          "output_type": "stream",
          "name": "stdout",
          "text": [
            "[86.85714285714286, 88.0]\n"
          ]
        }
      ]
    },
    {
      "cell_type": "code",
      "source": [
        "#6-1\n",
        "def func(n):\n",
        "  total = 0\n",
        "  for x in range(1, n + 1):\n",
        "    total += x\n",
        "  return total"
      ],
      "metadata": {
        "colab": {
          "base_uri": "https://localhost:8080/"
        },
        "id": "oQ1pXagcfxjd",
        "outputId": "1b5a1a0a-a4b7-4037-fc5b-09435225b3e0"
      },
      "execution_count": 35,
      "outputs": [
        {
          "output_type": "execute_result",
          "data": {
            "text/plain": [
              "15"
            ]
          },
          "metadata": {},
          "execution_count": 35
        }
      ]
    },
    {
      "cell_type": "code",
      "source": [
        "#6-2\n",
        "print(func(10))"
      ],
      "metadata": {
        "colab": {
          "base_uri": "https://localhost:8080/"
        },
        "id": "MVEqzVMahJ-A",
        "outputId": "2f90c8b2-8448-4f91-e1cc-9b6b8d5b4a5d"
      },
      "execution_count": 36,
      "outputs": [
        {
          "output_type": "stream",
          "name": "stdout",
          "text": [
            "55\n"
          ]
        }
      ]
    },
    {
      "cell_type": "code",
      "source": [
        "#7-1, 7-2\n",
        "def sum_num2(n):\n",
        "  odd = 0\n",
        "  even = 0\n",
        "  for i in range(1, 101):\n",
        "    if i % 2 == 0:\n",
        "      even = even + i\n",
        "    if i % 2 == 1:\n",
        "      odd = odd + i\n",
        "  return even, odd\n",
        "sum_num2(100)"
      ],
      "metadata": {
        "colab": {
          "base_uri": "https://localhost:8080/"
        },
        "id": "K2Ud6AM3hRp2",
        "outputId": "64497ca9-df40-4ba1-c906-786df9975d3c"
      },
      "execution_count": 37,
      "outputs": [
        {
          "output_type": "execute_result",
          "data": {
            "text/plain": [
              "(2550, 2500)"
            ]
          },
          "metadata": {},
          "execution_count": 37
        }
      ]
    },
    {
      "cell_type": "code",
      "source": [],
      "metadata": {
        "id": "FN4L_f-rrQLy"
      },
      "execution_count": null,
      "outputs": []
    }
  ]
}
