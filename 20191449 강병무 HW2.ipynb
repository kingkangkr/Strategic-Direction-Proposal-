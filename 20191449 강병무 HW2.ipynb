{
  "nbformat": 4,
  "nbformat_minor": 0,
  "metadata": {
    "colab": {
      "provenance": []
    },
    "kernelspec": {
      "name": "python3",
      "display_name": "Python 3"
    },
    "language_info": {
      "name": "python"
    }
  },
  "cells": [
    {
      "cell_type": "code",
      "execution_count": null,
      "metadata": {
        "colab": {
          "base_uri": "https://localhost:8080/"
        },
        "id": "bJPQ9q9nzW_T",
        "outputId": "f790ee1c-0284-4a44-fc90-401b2fd39af3"
      },
      "outputs": [
        {
          "output_type": "stream",
          "name": "stdout",
          "text": [
            "Requirement already satisfied: requests in /usr/local/lib/python3.10/dist-packages (2.31.0)\n",
            "Requirement already satisfied: charset-normalizer<4,>=2 in /usr/local/lib/python3.10/dist-packages (from requests) (3.3.0)\n",
            "Requirement already satisfied: idna<4,>=2.5 in /usr/local/lib/python3.10/dist-packages (from requests) (3.4)\n",
            "Requirement already satisfied: urllib3<3,>=1.21.1 in /usr/local/lib/python3.10/dist-packages (from requests) (2.0.6)\n",
            "Requirement already satisfied: certifi>=2017.4.17 in /usr/local/lib/python3.10/dist-packages (from requests) (2023.7.22)\n",
            "0\n",
            "1\n",
            "2\n",
            "3\n",
            "4\n",
            "5\n",
            "6\n",
            "7\n",
            "8\n",
            "9\n",
            "10\n",
            "11\n",
            "12\n",
            "13\n",
            "14\n",
            "15\n",
            "16\n",
            "17\n",
            "18\n",
            "19\n",
            "20\n",
            "21\n",
            "22\n",
            "23\n",
            "24\n",
            "25\n",
            "26\n",
            "27\n",
            "28\n",
            "29\n",
            "30\n",
            "31\n",
            "32\n",
            "33\n",
            "34\n",
            "35\n",
            "36\n",
            "37\n",
            "38\n",
            "39\n",
            "40\n",
            "41\n",
            "42\n",
            "43\n",
            "44\n",
            "45\n",
            "46\n",
            "47\n",
            "48\n",
            "49\n",
            "0\n",
            "1\n",
            "2\n",
            "3\n",
            "4\n",
            "5\n",
            "6\n",
            "7\n",
            "8\n",
            "9\n",
            "10\n",
            "11\n",
            "12\n",
            "13\n",
            "14\n",
            "15\n",
            "16\n",
            "17\n",
            "18\n",
            "19\n",
            "20\n",
            "21\n",
            "22\n",
            "23\n",
            "24\n",
            "25\n",
            "26\n",
            "27\n",
            "28\n",
            "29\n",
            "30\n",
            "31\n",
            "32\n",
            "33\n",
            "34\n",
            "35\n",
            "36\n",
            "37\n",
            "38\n",
            "39\n",
            "40\n",
            "41\n",
            "42\n",
            "43\n",
            "44\n",
            "45\n",
            "46\n",
            "47\n",
            "48\n",
            "49\n",
            "0\n",
            "1\n",
            "2\n",
            "3\n",
            "4\n",
            "5\n",
            "6\n",
            "7\n",
            "8\n",
            "9\n",
            "10\n",
            "11\n",
            "12\n",
            "13\n",
            "14\n",
            "15\n",
            "16\n",
            "17\n",
            "18\n",
            "19\n",
            "20\n",
            "21\n",
            "22\n",
            "23\n",
            "24\n",
            "25\n",
            "26\n",
            "27\n",
            "28\n",
            "29\n",
            "30\n",
            "31\n",
            "32\n",
            "33\n",
            "34\n",
            "35\n",
            "36\n",
            "37\n",
            "38\n",
            "39\n",
            "40\n",
            "41\n",
            "42\n",
            "43\n",
            "44\n",
            "45\n",
            "46\n",
            "47\n",
            "48\n",
            "49\n",
            "0\n",
            "1\n",
            "2\n",
            "3\n",
            "4\n",
            "5\n",
            "6\n",
            "7\n",
            "8\n",
            "9\n",
            "10\n",
            "11\n",
            "12\n",
            "13\n",
            "14\n",
            "15\n",
            "16\n",
            "17\n",
            "18\n",
            "19\n",
            "20\n",
            "21\n",
            "22\n",
            "23\n",
            "24\n",
            "25\n",
            "26\n",
            "27\n",
            "28\n",
            "29\n",
            "30\n",
            "31\n",
            "32\n",
            "33\n",
            "34\n",
            "35\n",
            "36\n",
            "37\n",
            "38\n",
            "39\n",
            "40\n",
            "41\n",
            "42\n",
            "43\n",
            "44\n",
            "45\n",
            "46\n",
            "47\n",
            "48\n",
            "49\n",
            "0\n",
            "1\n",
            "2\n",
            "3\n",
            "4\n",
            "5\n",
            "6\n",
            "7\n",
            "8\n",
            "9\n",
            "10\n",
            "11\n",
            "12\n",
            "13\n",
            "14\n",
            "15\n",
            "16\n",
            "17\n",
            "18\n",
            "19\n",
            "20\n",
            "21\n",
            "22\n",
            "23\n",
            "24\n",
            "25\n",
            "26\n",
            "27\n",
            "28\n",
            "29\n",
            "30\n",
            "31\n",
            "32\n",
            "33\n",
            "34\n",
            "35\n",
            "36\n",
            "37\n",
            "38\n",
            "39\n",
            "40\n",
            "41\n",
            "42\n",
            "43\n",
            "44\n",
            "45\n",
            "46\n",
            "47\n",
            "48\n",
            "49\n"
          ]
        }
      ],
      "source": [
        "!pip install requests\n",
        "import requests\n",
        "from bs4 import BeautifulSoup\n",
        "import re\n",
        "############# title and url\n",
        "url1 = 'https://www.imdb.com/search/title/?groups=top_250&sort=user_rating,desc&ref_=adv_prv'\n",
        "url2 = 'https://www.imdb.com/search/title/?groups=top_250&sort=user_rating,desc&start=51&ref_=adv_nxt'\n",
        "url3 = 'https://www.imdb.com/search/title/?groups=top_250&sort=user_rating,desc&start=101&ref_=adv_nxt'\n",
        "url4 = 'https://www.imdb.com/search/title/?groups=top_250&sort=user_rating,desc&start=151&ref_=adv_nxt'\n",
        "url5 = 'https://www.imdb.com/search/title/?groups=top_250&sort=user_rating,desc&start=201&ref_=adv_nxt'\n",
        "url_list = [url1, url2, url3, url4, url5]\n",
        "\n",
        "rank_list = []\n",
        "title_list = []\n",
        "year_list = []\n",
        "runtime_list = []\n",
        "genre_list = []\n",
        "director_list = []\n",
        "rating_list = []\n",
        "\n",
        "for url_i in url_list:\n",
        "  url = url_i\n",
        "  req = requests.get(url)\n",
        "  html = req.text\n",
        "  soup = BeautifulSoup(html, \"html.parser\")\n",
        "\n",
        "  for i in range(0,50):\n",
        "    rank = re.sub('\\.', '', soup.select(\".lister-item-index\")[i].text)\n",
        "    title = soup.select(\".lister-item-header > a\")[i].text\n",
        "    year = re.sub('\\(|\\)', '', soup.select(\".lister-item-year\")[i].text)\n",
        "    runtime = float(re.sub('min', ' ', soup.select(\".runtime\")[i].text))\n",
        "    genre = re.sub('\\\\n', '', soup.select(\".genre\")[i].text)\n",
        "    director = soup.select(\"p > a:nth-of-type(1)\")[i].text\n",
        "    rating = float(soup.select(\".inline-block > strong\")[i].text)\n",
        "    rank_list.append(rank)\n",
        "    title_list.append(title)\n",
        "    year_list.append(year)\n",
        "    runtime_list.append(runtime)\n",
        "    genre_list.append(genre)\n",
        "    director_list.append(director)\n",
        "    rating_list.append(rating)\n",
        "    print(i)"
      ]
    },
    {
      "cell_type": "code",
      "source": [
        "#1-1\n",
        "import pandas as pd\n",
        "data = {\n",
        "    'Rank' : rank_list,\n",
        "    'Title': title_list,\n",
        "    'Year': year_list,\n",
        "    'Runtime': runtime_list,\n",
        "    'Genre': genre_list,\n",
        "    'Director': director_list,\n",
        "    'Rating': rating_list\n",
        "}\n",
        "\n",
        "df = pd.DataFrame(data)\n",
        "\n",
        "year_count = df['Year'].value_counts()\n",
        "top_2 = year_count.head(2)\n",
        "print(top_2)"
      ],
      "metadata": {
        "colab": {
          "base_uri": "https://localhost:8080/"
        },
        "id": "fFf8LufrzfAv",
        "outputId": "60f020b6-bac6-43ba-f9c1-25f2381317bd"
      },
      "execution_count": null,
      "outputs": [
        {
          "output_type": "stream",
          "name": "stdout",
          "text": [
            "1995    8\n",
            "2004    7\n",
            "Name: Year, dtype: int64\n"
          ]
        }
      ]
    },
    {
      "cell_type": "code",
      "source": [
        "#1-2\n",
        "result = df[['Year', 'Rating']].groupby('Year').mean()\n",
        "highest_year = result['Rating'].idxmax()\n",
        "highest_mean_rating = result['Rating'].max()\n",
        "\n",
        "print(\"Year with the highest mean rating:\", highest_year)\n",
        "print(\"Highest mean rating:\", highest_mean_rating)\n"
      ],
      "metadata": {
        "id": "O88Qq6GFz5vZ",
        "colab": {
          "base_uri": "https://localhost:8080/"
        },
        "outputId": "bd28ed0f-13d5-48eb-da9d-f06262ce9bae"
      },
      "execution_count": null,
      "outputs": [
        {
          "output_type": "stream",
          "name": "stdout",
          "text": [
            "Year with the highest mean rating: 1972\n",
            "Highest mean rating: 9.2\n"
          ]
        }
      ]
    },
    {
      "cell_type": "code",
      "source": [
        "#1-3\n",
        "genre_count = df['Genre'].value_counts()\n",
        "ans = genre_count.head(2)\n",
        "print(ans)"
      ],
      "metadata": {
        "colab": {
          "base_uri": "https://localhost:8080/"
        },
        "id": "y_kHAjr63TT8",
        "outputId": "09522d3b-3874-4fab-e010-5922037b0fc1"
      },
      "execution_count": null,
      "outputs": [
        {
          "output_type": "stream",
          "name": "stdout",
          "text": [
            "Drama                       19\n",
            "Crime, Drama                14\n",
            "Name: Genre, dtype: int64\n"
          ]
        }
      ]
    },
    {
      "cell_type": "code",
      "source": [
        "#1-4\n",
        "director_counts = df['Director'].value_counts()\n",
        "directors_more_than_7 = director_counts[director_counts > 7]\n",
        "\n",
        "print(directors_more_than_7)"
      ],
      "metadata": {
        "colab": {
          "base_uri": "https://localhost:8080/"
        },
        "id": "vb8qujyn3YxM",
        "outputId": "36e210fb-f860-4753-fc84-249ea470bf34"
      },
      "execution_count": null,
      "outputs": [
        {
          "output_type": "stream",
          "name": "stdout",
          "text": [
            "Christopher Nolan    8\n",
            "Name: Director, dtype: int64\n"
          ]
        }
      ]
    },
    {
      "cell_type": "code",
      "source": [
        "#1-5\n",
        "count_lesser_than_70 = (df['Runtime'] < 70).sum()\n",
        "print(count_lesser_than_70)\n"
      ],
      "metadata": {
        "id": "YdlXDedm4JwI",
        "colab": {
          "base_uri": "https://localhost:8080/"
        },
        "outputId": "85f4d459-94e0-4128-8a36-528b4b583bac"
      },
      "execution_count": null,
      "outputs": [
        {
          "output_type": "stream",
          "name": "stdout",
          "text": [
            "2\n"
          ]
        }
      ]
    },
    {
      "cell_type": "code",
      "source": [
        "import requests\n",
        "from bs4 import BeautifulSoup\n",
        "import time\n",
        "\n",
        "url_pattern = \"https://oilprice.com/Latest-Energy-News/World-News/Page-{}.html\"\n",
        "\n",
        "article_info_list = []\n",
        "article_name_list=[]\n",
        "article_date_list=[]\n",
        "article_writer_list=[]\n",
        "for page in range(1,100):\n",
        "    url = url_pattern.format(page)\n",
        "    response = requests.get(url)\n",
        "    soup = BeautifulSoup(response.content, 'html.parser')\n",
        "\n",
        "    articles = soup.find_all('div', class_='categoryArticle')\n",
        "    for article in articles:\n",
        "        article_name_element = article.find('h2', class_='categoryArticle__title')\n",
        "        if article_name_element:\n",
        "            article_name = article_name_element.text\n",
        "            article_name_list.append(article_name)\n",
        "        else:\n",
        "            article_name = \"No Title Found\"\n",
        "\n",
        "        article_meta = article.find('p', class_='categoryArticle__meta')\n",
        "        if article_meta:\n",
        "            article_date, article_writer = article_meta.text.split('|')\n",
        "            article_date = article_date.strip()\n",
        "            article_date_list.append(article_date)\n",
        "            article_writer = article_writer.strip()\n",
        "            article_writer_list.append(article_writer)\n",
        "        else:\n",
        "            article_date = \"No Date Found\"\n",
        "            article_writer = \"No Writer Found\"\n",
        "date_list = [date.split(\" at \")[0] for date in article_date_list]\n",
        "combined_list = list(zip(article_name_list, date_list, article_writer_list))\n",
        "combined_list = [list(item) for item in zip(article_name_list, date_list, article_writer_list)]\n",
        "answer_list=[]\n",
        "for item in combined_list:\n",
        "  if(item[1] in ['Aug 15, 2023', 'Aug 16, 2023', 'Aug 17, 2023', 'Aug 18, 2023']):\n",
        "    answer_list.append(item)\n",
        "\n",
        "new_title_list = []\n",
        "new_writer_list = []\n",
        "for i in answer_list :\n",
        "  title = i[0]\n",
        "  writer = i[2]\n",
        "  new_title_list. append (title)\n",
        "  new_writer_list.append ( writer )\n",
        "from collections import Counter\n",
        "#2-1\n",
        "print(len(answer_list))"
      ],
      "metadata": {
        "colab": {
          "base_uri": "https://localhost:8080/"
        },
        "id": "8SM5gOyWzFL6",
        "outputId": "61575dde-7efc-4c13-f341-547bf73b42cb"
      },
      "execution_count": 24,
      "outputs": [
        {
          "output_type": "stream",
          "name": "stdout",
          "text": [
            "45\n"
          ]
        }
      ]
    },
    {
      "cell_type": "code",
      "source": [
        "#2-2\n",
        "print(new_title_list)"
      ],
      "metadata": {
        "colab": {
          "base_uri": "https://localhost:8080/"
        },
        "id": "WXBkRzgD0CeK",
        "outputId": "289f1a45-afc6-4f03-cd1a-d2414a137f4a"
      },
      "execution_count": 25,
      "outputs": [
        {
          "output_type": "stream",
          "name": "stdout",
          "text": [
            "['Big Solar Slapped With Tariffs For Dodging China Duties', 'Adani Clears Air On Rumored $2.5 Billion Deal With Abu Dhabi’s TAQA', 'LNG Tanker Prices Soar Earlier Than Usual Ahead Of Winter', 'China’s Oil Giant CNOOC Sees Profits Drop 11% On Lower Prices\\xa0', 'Sour Crude Market Tightens Further As Kuwait’s Exports Dip', 'Nigeria Has Lost $46 Billion Worth Of Crude Oil To Theft', 'Diesel Demand Outlook Darkens On China Slowdown', 'Chevron LNG Workers To Vote On Strike Action', 'ERCOT Asks Texans to Conserve Energy Again As Demand Tests Limits', 'Chinese EV Battery Imports Under Scrutiny Over Forced Labor', 'U.S. Sanctions Lebanese Environmental Activist Aiding Hezbollah', 'Citigroup Says To Short Oil After Summer Is Over', 'Brazil Looks To Introduce Emissions Cap', 'WoodMac: Fivefold Annual Jump In Global Offshore Wind Is “Unrealistic”', 'China Seeks More Secrecy In Its Energy Sector To Protect National Security', \"UK's Truck Fleet Faces Pressure To Go Green\", 'China Likely Tapped Its Crude Inventories In July', 'Kurdistan Oilfield Restarted Despite Ongoing Export Halt', 'ADNOC Gas Signs LNG Deal With Japanese Energy Giant', 'Iran To Bring 67 New Oil And Gas Projects Online By March', 'Quebec Energy Minister Wants Fewer Cars On The Roads', 'Russian Crude Oil Discount For India Shrinks', 'India Approves $7B Electric City Bus Scheme', 'Amid Energy Crisis, Lebanon Sees First DrillShip Arrive For Oil Exploration', 'U.S. Gas Prices Hit Year High As Market Tightens', 'Energy Transfer LP To Acquire Crestwood Equity Partners In $7B Deal', 'Investors Boost Bullish Bets On European Natural Gas Prices', 'Lula Aide Signals It’s Okay For Petrobras To Pursue Amazon Drilling \\xa0', 'Tesla Reignites Price War With More Cuts In China', 'Indonesia Delays $20 Billion Climate Plan', 'Germany Sees Natural Gas Prices Remaining High For Years', 'Woodside Energy Reports Positive Progress In LNG Strike Talks', 'Libyan Fighting Stops After Prisoner Release', 'Oil Steady Despite Large Crude Draw', 'U.S. Shale Oil Production Growth Getting Increasingly Difficult: Report', 'U.S. Pipeline Gas Exports To Mexico Hit A Record-High \\xa0', 'Russia To Raise Oil Export Duty To Highest This Year', 'Premier Claims Alberta Will Never Comply With Canada’s Clean Power Proposal', 'Libya’s Oil Output Threatened As Intense Fighting Breaks Out In Tripoli', 'Robotaxis Clog Streets Of San Francisco In Major Traffic Jam', 'APA In Talks About Floating LNG Site Offshore Guyana-Suriname', 'Deadly Explosions Rock Russian Oilfield', 'Australia To Consider Tariffs On Carbon-Intensive Imports', 'Suncor Energy Reports A Substantial Decline In Profits', 'EIA Sees Lower Shale Oil Production In September']\n"
          ]
        }
      ]
    },
    {
      "cell_type": "code",
      "source": [
        "#2-3\n",
        "writer_counts = Counter(new_writer_list)\n",
        "most_common_writer = writer_counts.most_common(1)[0]\n",
        "print(most_common_writer)"
      ],
      "metadata": {
        "id": "TSCrPsnVE5WL",
        "colab": {
          "base_uri": "https://localhost:8080/"
        },
        "outputId": "f65b288d-8eaa-4283-bc08-1de8437ab451"
      },
      "execution_count": 26,
      "outputs": [
        {
          "output_type": "stream",
          "name": "stdout",
          "text": [
            "('Tsvetana Paraskova', 12)\n"
          ]
        }
      ]
    },
    {
      "cell_type": "code",
      "source": [],
      "metadata": {
        "id": "8O7aARJigvRY"
      },
      "execution_count": null,
      "outputs": []
    }
  ]
}